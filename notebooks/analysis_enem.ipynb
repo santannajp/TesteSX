{
 "cells": [
  {
   "cell_type": "code",
   "execution_count": null,
   "metadata": {
    "vscode": {
     "languageId": "plaintext"
    }
   },
   "outputs": [],
   "source": [
    "import pandas as pd\n",
    "import seaborn as sns\n",
    "import matplotlib.pyplot as plt\n"
   ]
  },
  {
   "cell_type": "code",
   "execution_count": null,
   "metadata": {
    "vscode": {
     "languageId": "plaintext"
    }
   },
   "outputs": [],
   "source": [
    "df_fato = pd.read_csv(\"data/FATO_NOTAS_ENEM.csv\")\n",
    "\n"
   ]
  },
  {
   "cell_type": "code",
   "execution_count": null,
   "metadata": {
    "vscode": {
     "languageId": "plaintext"
    }
   },
   "outputs": [],
   "source": [
    "df_fato['NOTA_TOTAL'] = df_fato['NU_NOTA_CN'] + df_fato['NU_NOTA_CH'] + df_fato['NU_NOTA_LC'] + df_fato['NU_NOTA_MT']\n",
    "sns.histplot(df_fato['NOTA_TOTAL'], kde=True)\n",
    "plt.title(\"Distribuição da NOTA_TOTAL\")\n",
    "plt.show()"
   ]
  }
 ],
 "metadata": {
  "language_info": {
   "name": "python"
  }
 },
 "nbformat": 4,
 "nbformat_minor": 2
}
