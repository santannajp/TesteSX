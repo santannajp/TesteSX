{
 "cells": [
  {
   "cell_type": "code",
   "execution_count": null,
   "metadata": {
    "vscode": {
     "languageId": "plaintext"
    }
   },
   "outputs": [],
   "source": [
    "import pandas as pd\n",
    "import seaborn as sns\n",
    "import matplotlib.pyplot as plt\n",
    "\n",
    "# Carregar os dados\n",
    "df_aluno = pd.read_csv(\"data/DIM_ALUNO.csv\")\n",
    "df_escola = pd.read_csv(\"data/DIM_ESCOLA.csv\")\n",
    "df_fato = pd.read_csv(\"data/FATO_NOTAS_ENEM.csv\")\n",
    "\n",
    "# Criar coluna de nota total (sem redação) para análises\n",
    "df_fato['NOTA_TOTAL_OBJ'] = df_fato['NU_NOTA_CN'] + df_fato['NU_NOTA_CH'] + df_fato['NU_NOTA_LC'] + df_fato['NU_NOTA_MT']\n",
    "# Outra coluna com todas as 5 provas (incluindo redação)\n",
    "df_fato['NOTA_TOTAL'] = df_fato['NOTA_TOTAL_OBJ'] + df_fato['NU_NOTA_REDACAO']\n",
    "\n",
    "# Fazer merges para análises:\n",
    "df_fato_aluno = df_fato.merge(df_aluno, left_on='FK_ALUNO', right_on='ID_ALUNO', how='left')\n",
    "df_fato_aluno_escola = df_fato_aluno.merge(df_escola, left_on='FK_ESCOLA', right_on='ID_ESCOLA', how='left')\n"
   ]
  },
  {
   "cell_type": "code",
   "execution_count": null,
   "metadata": {
    "vscode": {
     "languageId": "plaintext"
    }
   },
   "outputs": [],
   "source": [
    "#Distribuição da NOTA_TOTAL\n",
    "\n",
    "plt.figure(figsize=(10,6))\n",
    "sns.histplot(df_fato_aluno_escola['NOTA_TOTAL'], kde=True)\n",
    "plt.title(\"Distribuição da Nota Total (4 objetivas + Redação)\")\n",
    "plt.xlabel(\"Nota Total\")\n",
    "plt.ylabel(\"Frequência\")\n",
    "plt.show()\n"
   ]
  },
  {
   "cell_type": "code",
   "execution_count": null,
   "metadata": {
    "vscode": {
     "languageId": "plaintext"
    }
   },
   "outputs": [],
   "source": [
    "Boxplot por Sexo\n",
    "\n",
    "plt.figure(figsize=(8,6))\n",
    "sns.boxplot(x='TP_SEXO', y='NOTA_TOTAL', data=df_fato_aluno_escola)\n",
    "plt.title(\"Distribuição da Nota Total por Sexo\")\n",
    "plt.xlabel(\"Sexo\")\n",
    "plt.ylabel(\"Nota Total\")\n",
    "plt.show()\n"
   ]
  },
  {
   "cell_type": "code",
   "execution_count": null,
   "metadata": {
    "vscode": {
     "languageId": "plaintext"
    }
   },
   "outputs": [],
   "source": [
    "Média por Etnia\n",
    "\n",
    "media_por_etnia = df_fato_aluno_escola.groupby('TP_COR_RACA')['NOTA_TOTAL'].mean().reset_index()\n",
    "sns.barplot(x='TP_COR_RACA', y='NOTA_TOTAL', data=media_por_etnia)\n",
    "plt.title(\"Média da Nota Total por Etnia\")\n",
    "plt.xlabel(\"Etnia (Cód)\")\n",
    "plt.ylabel(\"Média da Nota Total\")\n",
    "plt.show()\n"
   ]
  },
  {
   "cell_type": "code",
   "execution_count": null,
   "metadata": {
    "vscode": {
     "languageId": "plaintext"
    }
   },
   "outputs": [],
   "source": [
    "Correlação entre notas objetivas e redação\n",
    "\n",
    "cols_notas = ['NU_NOTA_CN', 'NU_NOTA_CH', 'NU_NOTA_LC', 'NU_NOTA_MT', 'NU_NOTA_REDACAO']\n",
    "corr = df_fato_aluno_escola[cols_notas].corr()\n",
    "plt.figure(figsize=(8,6))\n",
    "sns.heatmap(corr, annot=True, cmap='Blues')\n",
    "plt.title(\"Mapa de Correlação entre Notas das Provas\")\n",
    "plt.show()\n"
   ]
  },
  {
   "cell_type": "code",
   "execution_count": null,
   "metadata": {
    "vscode": {
     "languageId": "plaintext"
    }
   },
   "outputs": [],
   "source": [
    "Comparação por Dependência Administrativa da Escola\n",
    "\n",
    "cols_notas = ['NU_NOTA_CN', 'NU_NOTA_CH', 'NU_NOTA_LC', 'NU_NOTA_MT', 'NU_NOTA_REDACAO']\n",
    "corr = df_fato_aluno_escola[cols_notas].corr()\n",
    "plt.figure(figsize=(8,6))\n",
    "sns.heatmap(corr, annot=True, cmap='Blues')\n",
    "plt.title(\"Mapa de Correlação entre Notas das Provas\")\n",
    "plt.show()\n"
   ]
  },
  {
   "cell_type": "code",
   "execution_count": null,
   "metadata": {
    "vscode": {
     "languageId": "plaintext"
    }
   },
   "outputs": [],
   "source": [
    "plt.figure(figsize=(10,6))\n",
    "sns.barplot(x='TP_DEPENDENCIA_ADM_ESC', y='NOTA_TOTAL', data=df_fato_aluno_escola)\n",
    "plt.title(\"Média da Nota Total por Tipo de Dependência Administrativa da Escola\")\n",
    "plt.xlabel(\"Tipo de Dependência (1=Federal, 2=Estadual, 3=Municipal, 4=Privada)\")\n",
    "plt.ylabel(\"Média da Nota Total\")\n",
    "plt.show()\n"
   ]
  },
  {
   "cell_type": "code",
   "execution_count": null,
   "metadata": {
    "vscode": {
     "languageId": "plaintext"
    }
   },
   "outputs": [],
   "source": []
  }
 ],
 "metadata": {
  "language_info": {
   "name": "python"
  }
 },
 "nbformat": 4,
 "nbformat_minor": 2
}
